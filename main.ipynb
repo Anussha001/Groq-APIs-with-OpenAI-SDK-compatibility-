# Conversation Management & Classification using Groq API
# Assignment Implementation for Google Colab

# Install required dependencies
!pip install openai requests

import json
import re
from typing import List, Dict, Any, Optional
from datetime import datetime
import requests
from openai import OpenAI


# CONFIGURATION & SETUP


class Config:
    """Configuration class for API settings"""
    GROQ_API_KEY = "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"  # Replace with your actual API key
    GROQ_BASE_URL = "https://api.groq.com/openai/v1"
    MODEL_NAME = "moonshotai/kimi-k2-instruct-0905"  # Fast and efficient model for both tasks

# Initialize Groq client with OpenAI compatibility
client = OpenAI(
    api_key=Config.GROQ_API_KEY,
    base_url=Config.GROQ_BASE_URL
)


# TASK 1: CONVERSATION MANAGEMENT WITH SUMMARIZATION


class ConversationManager:
    """
    Manages conversation history with intelligent summarization and truncation.
    """
    
    def __init__(self, max_turns: int = 10, max_chars: int = 4000, 
                 summarize_every: int = 3):
        self.conversation_history: List[Dict[str, str]] = []
        self.max_turns = max_turns
        self.max_chars = max_chars
        self.summarize_every = summarize_every
        self.turn_count = 0
        self.summary = ""
        
    def add_message(self, role: str, content: str):
        """Add a new message to conversation history"""
        message = {
            "role": role,
            "content": content,
            "timestamp": datetime.now().isoformat()
        }
        self.conversation_history.append(message)
        self.turn_count += 1
        
        # Check if we need to summarize
        if self.turn_count % self.summarize_every == 0:
            self._periodic_summarization()
        
        # Apply truncation if needed
        self._apply_truncation()
    
    def _periodic_summarization(self):
        """Perform periodic summarization of conversation history"""
        if len(self.conversation_history) < 2:
            return
            
        try:
            # Prepare conversation text for summarization
            conversation_text = self._format_conversation_for_summary()
            
            response = client.chat.completions.create(
                model=Config.MODEL_NAME,
                messages=[
                    {
                        "role": "system",
                        "content": "Summarize the following conversation concisely, capturing key points and context. Keep it under 200 words."
                    },
                    {
                        "role": "user", 
                        "content": f"Conversation to summarize:\n{conversation_text}"
                    }
                ],
                max_tokens=300,
                temperature=0.3
            )
            
            new_summary = response.choices[0].message.content.strip()
            
            # Update summary and compress history
            if self.summary:
                self.summary = f"{self.summary}\n\nRecent conversation: {new_summary}"
            else:
                self.summary = new_summary
            
            # Keep only the last few messages and replace older ones with summary
            self.conversation_history = self.conversation_history[-2:]
            
            print(f"Summarization completed after {self.turn_count} turns")
            
        except Exception as e:
            print(f" Summarization failed: {str(e)}")
    
    def _format_conversation_for_summary(self) -> str:
        """Format conversation history for summarization"""
        formatted = []
        for msg in self.conversation_history:
            role = msg["role"].upper()
            content = msg["content"]
            formatted.append(f"{role}: {content}")
        return "\n".join(formatted)
    
    def _apply_truncation(self):
        """Apply truncation based on turns and character limits"""
        # Truncate by number of turns
        if len(self.conversation_history) > self.max_turns:
            self.conversation_history = self.conversation_history[-self.max_turns:]
        
        # Truncate by character count
        total_chars = sum(len(msg["content"]) for msg in self.conversation_history)
        while total_chars > self.max_chars and len(self.conversation_history) > 1:
            removed = self.conversation_history.pop(0)
            total_chars -= len(removed["content"])
    
    def get_conversation_context(self) -> str:
        """Get the complete conversation context including summary"""
        context_parts = []
        
        if self.summary:
            context_parts.append(f"Previous conversation summary:\n{self.summary}\n")
        
        context_parts.append("Current conversation:")
        for msg in self.conversation_history:
            role = msg["role"].upper()
            content = msg["content"]
            context_parts.append(f"{role}: {content}")
        
        return "\n".join(context_parts)
    
    def get_stats(self) -> Dict[str, Any]:
        """Get conversation statistics"""
        total_chars = sum(len(msg["content"]) for msg in self.conversation_history)
        return {
            "total_turns": self.turn_count,
            "current_messages": len(self.conversation_history),
            "total_characters": total_chars,
            "has_summary": bool(self.summary),
            "summary_length": len(self.summary) if self.summary else 0
        }
# TASK 2: JSON SCHEMA CLASSIFICATION & INFORMATION EXTRACTION


class InformationExtractor:
    """
    Extracts structured information from chat conversations using JSON schema.
    """
    
    def __init__(self):
        self.extraction_schema = {
            "type": "object",
            "properties": {
                "name": {
                    "type": "string",
                    "description": "Full name of the person"
                },
                "email": {
                    "type": "string",
                    "description": "Email address"
                },
                "phone": {
                    "type": "string",
                    "description": "Phone number in any format"
                },
                "location": {
                    "type": "string",
                    "description": "Location, address, city, or geographic information"
                },
                "age": {
                    "type": "integer",
                    "description": "Age in years"
                }
            },
            "required": []
        }
        
        self.function_definition = {
            "name": "extract_user_information",
            "description": "Extract user information from chat conversation",
            "parameters": self.extraction_schema
        }
    
    def extract_information(self, chat_text: str) -> Dict[str, Any]:
        """
        Extract structured information from chat using function calling
        """
        try:
            response = client.chat.completions.create(
                model=Config.MODEL_NAME,
                messages=[
                    {
                        "role": "system",
                        "content": """You are an expert at extracting personal information from chat conversations. 
                        Extract any mentioned name, email, phone, location, and age from the provided chat. 
                        Only extract information that is explicitly mentioned. Use null for missing information."""
                    },
                    {
                        "role": "user",
                        "content": f"Extract information from this chat:\n{chat_text}"
                    }
                ],
                functions=[self.function_definition],
                function_call={"name": "extract_user_information"},
                temperature=0.1
            )
            
            # Parse the function call response
            function_call = response.choices[0].message.function_call
            extracted_data = json.loads(function_call.arguments)
            
            # Clean up the data (remove null values and empty strings)
            cleaned_data = {k: v for k, v in extracted_data.items() 
                          if v is not None and v != ""}
            
            return cleaned_data
            
        except Exception as e:
            print(f"❌ Information extraction failed: {str(e)}")
            return {}
    
    def validate_extraction(self, extracted_data: Dict[str, Any]) -> Dict[str, Any]:
        """
        Validate extracted data against schema and provide quality metrics
        """
        validation_result = {
            "is_valid": True,
            "extracted_fields": list(extracted_data.keys()),
            "field_count": len(extracted_data),
            "validation_errors": []
        }
        
        # Check data types and formats
        for field, value in extracted_data.items():
            if field == "email" and value:
                if not re.match(r'^[^@]+@[^@]+\.[^@]+$', value):
                    validation_result["validation_errors"].append(f"Invalid email format: {value}")
                    validation_result["is_valid"] = False
            
            elif field == "age" and value:
                if not isinstance(value, int) or value < 0 or value > 150:
                    validation_result["validation_errors"].append(f"Invalid age: {value}")
                    validation_result["is_valid"] = False
            
            elif field == "phone" and value:
                # Basic phone validation (digits and common separators)
                if not re.match(r'^[\d\s\-\+\(\)]{7,}$', str(value)):
                    validation_result["validation_errors"].append(f"Invalid phone format: {value}")
        
        return validation_result


# DEMONSTRATION & TESTING

def demonstrate_conversation_management():
    """Demonstrate Task 1: Conversation Management"""
    print("=" * 60)
    print("TASK 1: CONVERSATION MANAGEMENT DEMONSTRATION")
    print("=" * 60)
    
    # Initialize conversation manager
    conv_manager = ConversationManager(
        max_turns=6, 
        max_chars=1000, 
        summarize_every=3
    )
    
    # Sample conversation data
    sample_conversations = sample_conversations = [
    ("user", "Hi there! I'm looking for help with my Python project."),
    ("assistant", "Hello! I'd be happy to help with your Python project. What specific area do you need assistance with?"),
    ("user", "I'm working on a web scraping tool and having issues with handling JavaScript-heavy sites."),
    ("assistant", "For JavaScript-heavy sites, you'll want to use tools like Selenium that can control a browser and execute JavaScript."),

    ("user", "That sounds perfect! Can you show me a basic Selenium example?"),
    ("assistant", "Certainly! Here's a simple example:\n\n```python\nfrom selenium import webdriver\nfrom selenium.webdriver.chrome.service import Service\nfrom selenium.webdriver.common.by import By\n\nservice = Service('/path/to/chromedriver')  # Ensure chromedriver is installed\noptions = webdriver.ChromeOptions()\noptions.add_argument('--headless')  # Run in headless mode\n\nbrowser = webdriver.Chrome(service=service, options=options)\nbrowser.get('https://example.com')\ncontent = browser.find_element(By.TAG_NAME, 'body').text\nprint(content)\nbrowser.quit()\n```"),

    ("user", "Great! How do I handle dynamic content that loads after page load?"),
    ("assistant", "You can use WebDriverWait to wait for elements to appear:\n\n```python\nfrom selenium.webdriver.common.by import By\nfrom selenium.webdriver.support.ui import WebDriverWait\nfrom selenium.webdriver.support import expected_conditions as EC\n\nbrowser.get('https://example.com/dynamic')\nwait = WebDriverWait(browser, 10)\ndynamic_element = wait.until(EC.presence_of_element_located((By.ID, 'dynamic-content')))\nprint(dynamic_element.text)\n```"),

    ("user", "This is very helpful. One more question - how do I avoid getting blocked?"),
    ("assistant", "To avoid getting blocked:\n\n1. Add delays between requests:\n```python\nimport time\nfor url in urls:\n    browser.get(url)\n    time.sleep(5)  # Wait 5 seconds between requests\n```\n\n2. Use rotating user agents:\n```python\nfrom selenium.webdriver.chrome.options import Options\n\noptions = Options()\nuser_agents = [\n    'Mozilla/5.0 (Windows NT 10.0; Win64; x64)...',\n    'Mozilla/5.0 (Macintosh; Intel Mac OS X 10_15_7)...'\n]\nimport random\noptions.add_argument(f'user-agent={random.choice(user_agents)}')\n```\n\n3. Consider using proxy servers if necessary." ) 
]

    
    print("Adding conversation messages and demonstrating features...\n")
    
    for i, (role, content) in enumerate(sample_conversations, 1):
        print(f"Turn {i}: Adding {role} message")
        conv_manager.add_message(role, content)
        
        # Show stats every few turns
        if i % 2 == 0:
            stats = conv_manager.get_stats()
            print(f"  Stats: {stats['current_messages']} messages, {stats['total_characters']} chars")
            
        if i % 3 == 0:
            print(f" Summarization triggered!\n")
            
        print()
    
    # Final demonstration
    print("Final Conversation Context:")
    print("-" * 40)
    print(conv_manager.get_conversation_context())
    print("\n" + "=" * 60)

def demonstrate_information_extraction():
    """Demonstrate Task 2: Information Extraction"""
    print("TASK 2: INFORMATION EXTRACTION DEMONSTRATION")
    print("=" * 60)
    
    extractor = InformationExtractor()
    
    # Sample chat conversations with different information patterns
    sample_chats = [
        """
        User: Hi, I'm Anussha Yadav and I need help with my account
        Agent: Hello Anussha! I'd be happy to help. Can I get your email address?
        User: Sure, it's anussha.y@gmail.com and my phone is 1234567890
        Agent: Thanks! And what's your location?
        User: I'm in Imphal, India. I'm 20 years old by the way.
        """,
        
        """
        Customer: Hello, I'm having issues with my order
        Support: I can help with that. What's your name and contact information?
        Customer: My name is Akash Singh, email akashsh@gmail.com
        Support: Thank you Akash. Any phone number I can reach you at?
        Customer: Yes, my cell is 2345671986. I live in Chennai.
        """,
        
        """
        User: Need technical support please
        Bot: Of course! What's your name?
        User: Mike Chen here. I'm located in San Francisco
        Bot: Hi Mike! Do you have a contact email?
        User: mike.chen.dev@outlook.com is my work email
        Bot: Perfect. Phone number?
        User: My number is +1-555-456-7890. I'm 28 if that matters.
        """
    ]
    
    print("Extracting information from sample chats...\n")
    
    for i, chat in enumerate(sample_chats, 1):
        print(f" CHAT SAMPLE {i}:")
        print("-" * 30)
        print(chat.strip())
        
        print(f"\n EXTRACTED INFORMATION:")
        extracted_info = extractor.extract_information(chat)
        
        for field, value in extracted_info.items():
            print(f"  {field.upper()}: {value}")
        
        print(f"\n VALIDATION RESULTS:")
        validation = extractor.validate_extraction(extracted_info)
        print(f"  Valid: {validation['is_valid']}")
        print(f"  Fields found: {validation['field_count']}")
        print(f"  Fields: {', '.join(validation['extracted_fields'])}")
        
        if validation['validation_errors']:
            print(f"  Errors: {', '.join(validation['validation_errors'])}")
        
        print("\n" + "=" * 50 + "\n")

def main():
    """Main demonstration function"""
    print(" GROQ API CONVERSATION MANAGEMENT & CLASSIFICATION")
    print(" Assignment Implementation")
    print(f" Using {Config.MODEL_NAME} for fast processing\n")
    
    # Check API configuration
    if Config.GROQ_API_KEY == "your_groq_api_key_here":
        print(" Please set your GROQ_API_KEY in the Config class")
        print(" Get your API key from: https://console.groq.com/keys")
        return
    
    try:
        # Test API connection
        test_response = client.chat.completions.create(
            model=Config.MODEL_NAME,
            messages=[{"role": "user", "content": "Test connection"}],
            max_tokens=10
        )
        print(" API connection successful!\n")
        
        # Run demonstrations
        demonstrate_conversation_management()
        print("\n")
        demonstrate_information_extraction()
        
        print(" All demonstrations completed successfully!")
        print("\n Key Features Implemented:")
        print("  ✓ Conversation history management with truncation")
        print("  ✓ Periodic summarization every k-th turn")
        print("  ✓ Character and turn-based limits")
        print("  ✓ JSON schema-based information extraction")
        print("  ✓ OpenAI function calling with Groq API")
        print("  ✓ Data validation and error handling")
        
    except Exception as e:
        print(f" Error: {str(e)}")
        print(" Please check your API key and internet connection")

# =============================================================================
# EXECUTION
# =============================================================================

if __name__ == "__main__":
    main()

# =============================================================================
# ADDITIONAL UTILITIES FOR TESTING
# =============================================================================

def interactive_conversation_test():
    """Interactive testing function for conversation management"""
    print(" Interactive Conversation Test")
    print("Type 'quit' to exit, 'stats' for statistics, 'context' for full context")
    
    conv_manager = ConversationManager(summarize_every=2)  # Summarize every 2 turns for demo
    
    while True:
        user_input = input("\nYou: ").strip()
        
        if user_input.lower() == 'quit':
            break
        elif user_input.lower() == 'stats':
            print(f" {conv_manager.get_stats()}")
            continue
        elif user_input.lower() == 'context':
            print(f" Context:\n{conv_manager.get_conversation_context()}")
            continue
        
        conv_manager.add_message("user", user_input)
        
        # Simulate assistant response
        try:
            response = client.chat.completions.create(
                model=Config.MODEL_NAME,
                messages=[
                    {"role": "system", "content": "You are a helpful assistant."},
                    {"role": "user", "content": user_input}
                ],
                max_tokens=150
            )
            
            assistant_response = response.choices[0].message.content
            conv_manager.add_message("assistant", assistant_response)
            print(f"Assistant: {assistant_response}")
            
        except Exception as e:
            print(f" Error getting response: {str(e)}")

def test_advanced_validation_scenarios():
    """Test advanced validation with edge cases and quality scoring"""
    print(" ADVANCED VALIDATION TEST SCENARIOS")
    print("=" * 50)
    
    extractor = InformationExtractor()
    
    # Test cases with various quality levels
    test_cases = [
        {
            "name": "High Quality Data",
            "data": {
                "name": "Anussha Yadav",
                "email": "anussha.y@company.com", 
                "phone": "1234567890",
                "location": "Imphal, India",
                "age": 20
            }
        },
        {
            "name": "Low Quality Data",
            "data": {
                "name": "J",
                "email": "invalid-email",
                "phone": "123",
                "location": "X",
                "age": -5
            }
        },
        {
            "name": "Edge Cases",
            "data": {
                "name": "Mary-Jane O'Connor",
                "email": "test.user@example.com",
                "phone": "1111111111",
                "location": "Somewhere",
                "age": 105
            }
        }
    ]
    
    for test_case in test_cases:
        print(f"\n TEST: {test_case['name']}")
        print("-" * 30)
        
        validation = extractor.validate_extraction(test_case['data'])
        print(f"Valid: {validation['is_valid']}")
        print(f"Fields: {', '.join(validation['extracted_fields'])}")
        if validation['validation_errors']:
            print(f"Errors: {', '.join(validation['validation_errors'])}")
        print()

# Uncomment to run advanced validation tests:
# test_advanced_validation_scenarios()
